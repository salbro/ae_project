{
 "cells": [
  {
   "cell_type": "markdown",
   "metadata": {},
   "source": [
    "## Website: https://medium.com/mlreview/topic-modeling-with-scikit-learn-e80d33668730"
   ]
  },
  {
   "cell_type": "code",
   "execution_count": 16,
   "metadata": {},
   "outputs": [
    {
     "name": "stderr",
     "output_type": "stream",
     "text": [
      "/home/cwc/anaconda3/lib/python3.6/site-packages/sklearn/decomposition/online_lda.py:294: DeprecationWarning: n_topics has been renamed to n_components in version 0.19 and will be removed in 0.21\n",
      "  DeprecationWarning)\n"
     ]
    },
    {
     "name": "stdout",
     "output_type": "stream",
     "text": [
      "NMF\n",
      "Topic 0: don just people think like know time good right ve\n",
      "Topic 1: card video monitor drivers cards bus vga driver color ram\n",
      "Topic 2: god jesus bible christ faith believe christian christians church sin\n",
      "Topic 3: game team year games season players play hockey win player\n",
      "Topic 4: car new 00 sale 10 price offer condition shipping 20\n",
      "Topic 5: thanks does know advance mail hi anybody info looking help\n",
      "Topic 6: windows file use files dos window program using problem running\n",
      "Topic 7: edu soon cs university com email internet article ftp send\n",
      "Topic 8: key chip encryption clipper keys government escrow public use algorithm\n",
      "Topic 9: drive scsi drives hard disk ide controller floppy cd mac\n",
      "\n",
      "\n",
      "LDA\n",
      "Topic 0: people gun armenian armenians war turkish states israel said children\n",
      "Topic 1: government people law mr use president don think right public\n",
      "Topic 2: space program output entry data nasa use science research build\n",
      "Topic 3: key car chip used keys bike use bit clipper number\n",
      "Topic 4: edu file com available mail ftp files information image send\n",
      "Topic 5: god people does jesus say think believe don know just\n",
      "Topic 6: windows use drive thanks does problem know card like using\n",
      "Topic 7: ax max b8f g9v a86 pl 145 1d9 0t 34u\n",
      "Topic 8: just don like think know good time ve people said\n",
      "Topic 9: 10 00 25 15 12 20 11 14 17 16\n"
     ]
    }
   ],
   "source": [
    "from sklearn.feature_extraction.text import TfidfVectorizer, CountVectorizer\n",
    "from sklearn.datasets import fetch_20newsgroups\n",
    "from sklearn.decomposition import NMF, LatentDirichletAllocation\n",
    "\n",
    "def display_topics(model, feature_names, no_top_words):\n",
    "    for topic_idx, topic in enumerate(model.components_):\n",
    "        print(\"Topic %d:\" % (topic_idx),\n",
    "              \" \".join([feature_names[i] for i in topic.argsort()[:-no_top_words - 1:-1]]))\n",
    "\n",
    "dataset = fetch_20newsgroups(shuffle=True, random_state=1, remove=('headers', 'footers', 'quotes'))\n",
    "documents = dataset.data\n",
    "\n",
    "no_features = 1000\n",
    "\n",
    "# NMF is able to use tf-idf\n",
    "tfidf_vectorizer = TfidfVectorizer(max_df=0.95, min_df=2, max_features=no_features, stop_words='english')\n",
    "tfidf = tfidf_vectorizer.fit_transform(documents)\n",
    "tfidf_feature_names = tfidf_vectorizer.get_feature_names()\n",
    "\n",
    "# LDA can only use raw term counts for LDA because it is a probabilistic graphical model\n",
    "tf_vectorizer = CountVectorizer(max_df=0.95, min_df=2, max_features=no_features, stop_words='english')\n",
    "tf = tf_vectorizer.fit_transform(documents)\n",
    "tf_feature_names = tf_vectorizer.get_feature_names()\n",
    "\n",
    "no_topics = 10\n",
    "\n",
    "# Run NMF\n",
    "nmf = NMF(n_components=no_topics, random_state=1, alpha=.1, l1_ratio=.5, init='nndsvd').fit(tfidf)\n",
    "\n",
    "# Run LDA\n",
    "lda = LatentDirichletAllocation(n_topics=no_topics, max_iter=5, learning_method='online',\n",
    "                                learning_offset=50.,random_state=0).fit(tf)\n",
    "\n",
    "no_top_words = 10\n",
    "\n",
    "print('NMF')\n",
    "display_topics(nmf, tfidf_feature_names, no_top_words)\n",
    "print('\\n')\n",
    "print('LDA')\n",
    "display_topics(lda, tf_feature_names, no_top_words)"
   ]
  },
  {
   "cell_type": "code",
   "execution_count": 18,
   "metadata": {},
   "outputs": [
    {
     "data": {
      "text/plain": [
       "\"Well i'm not sure about the story nad it did seem biased. What\\nI disagree with is your statement that the U.S. Media is out to\\nruin Israels reputation. That is rediculous. The U.S. media is\\nthe most pro-israeli media in the world. Having lived in Europe\\nI realize that incidences such as the one described in the\\nletter have occured. The U.S. media as a whole seem to try to\\nignore them. The U.S. is subsidizing Israels existance and the\\nEuropeans are not (at least not to the same degree). So I think\\nthat might be a reason they report more clearly on the\\natrocities.\\n\\tWhat is a shame is that in Austria, daily reports of\\nthe inhuman acts commited by Israeli soldiers and the blessing\\nreceived from the Government makes some of the Holocaust guilt\\ngo away. After all, look how the Jews are treating other races\\nwhen they got power. It is unfortunate.\\n\""
      ]
     },
     "execution_count": 18,
     "metadata": {},
     "output_type": "execute_result"
    }
   ],
   "source": [
    "documents[0]"
   ]
  },
  {
   "cell_type": "markdown",
   "metadata": {
    "collapsed": true
   },
   "source": [
    "## Bleach Report articles"
   ]
  },
  {
   "cell_type": "code",
   "execution_count": 3,
   "metadata": {},
   "outputs": [],
   "source": [
    "import pickle, codecs, json\n",
    "\n",
    "docs_raw_filename = \"docs_raw_saturday2\"\n",
    "with open (docs_raw_filename, 'rb') as fp:\n",
    "    raw_docs = pickle.load(fp)\n",
    "\n",
    "docs_cleaned_filename = \"docs_cleaned_saturday2\"\n",
    "with open (docs_cleaned_filename, 'rb') as fp:\n",
    "    cleaned_docs = pickle.load(fp)\n",
    "\n",
    "# titles_filename = 'article_dicts_saturday2'\n",
    "# with open (titles_filename, 'rb') as fp:\n",
    "#     titles = pickle.load(fp)\n",
    "    \n",
    "article_dicts_filename = \"article_dicts_saturday2\"\n",
    "all_articles = []\n",
    "with codecs.open(article_dicts_filename,'rU','utf-8') as f:\n",
    "    for line in f:\n",
    "        all_articles.append(json.loads(line))"
   ]
  },
  {
   "cell_type": "code",
   "execution_count": 4,
   "metadata": {},
   "outputs": [
    {
     "name": "stderr",
     "output_type": "stream",
     "text": [
      "/home/cwc/anaconda3/lib/python3.6/site-packages/sklearn/decomposition/online_lda.py:294: DeprecationWarning: n_topics has been renamed to n_components in version 0.19 and will be removed in 0.21\n",
      "  DeprecationWarning)\n"
     ]
    },
    {
     "name": "stdout",
     "output_type": "stream",
     "text": [
      "NMF\n",
      "Topic 0: points game series celtics rebounds season games rockets assists jazz\n",
      "Topic 1: nba triple mj 30 way best liangelo chanceraptors classmikal clowning\n",
      "Topic 2: draft nfl browns lb landry football app wnba journey st\n",
      "Topic 3: year season said team nba players league like knicks million\n",
      "Topic 4: james cleveland cavaliers lebron cavs thomas lue trade love nance\n",
      "Topic 5: warriors curry durant golden state kerr thompson green stephen klay\n",
      "Topic 6: betting oddsshark odds cover picks games check nba point total\n",
      "Topic 7: embiid philadelphia 76ers sixers heat miami fultz simmons joel game\n",
      "Topic 8: tournament ncaa michigan villanova kansas duke state wildcats sg sf\n",
      "Topic 9: leonard spurs antonio san popovich kawhi aldridge wright wojnarowski meeting\n",
      "\n",
      "\n",
      "LDA\n",
      "Topic 0: percent season points year game point shooting nba just ball\n",
      "Topic 1: game games nba vs conference state warriors round series rockets\n",
      "Topic 2: million free trade year season team lakers pick deal contract\n",
      "Topic 3: draft tournament state nfl ncaa teams best college overall kansas\n",
      "Topic 4: said nba like just team time players league year game\n",
      "Topic 5: james team season cleveland cavaliers coach nba time lebron cavs\n",
      "Topic 6: points game rebounds season games team assists just point win\n",
      "Topic 7: sf sg suns jr nba hawks draft phoenix pf pg\n",
      "Topic 8: nba mj best way triple 30 meek welcomed game recordcollin\n",
      "Topic 9: philadelphia embiid 76ers sixers heat miami simmons game fultz wade\n"
     ]
    }
   ],
   "source": [
    "from sklearn.feature_extraction.text import TfidfVectorizer, CountVectorizer\n",
    "from sklearn.datasets import fetch_20newsgroups\n",
    "from sklearn.decomposition import NMF, LatentDirichletAllocation\n",
    "\n",
    "def display_topics(model, feature_names, no_top_words):\n",
    "    for topic_idx, topic in enumerate(model.components_):\n",
    "        print(\"Topic %d:\" % (topic_idx),\n",
    "              \" \".join([feature_names[i] for i in topic.argsort()[:-no_top_words - 1:-1]]))\n",
    "\n",
    "# dataset = fetch_20newsgroups(shuffle=True, random_state=1, remove=('headers', 'footers', 'quotes'))\n",
    "# documents = dataset.data\n",
    "documents = raw_docs\n",
    "\n",
    "no_features = 1000\n",
    "\n",
    "# NMF is able to use tf-idf\n",
    "tfidf_vectorizer = TfidfVectorizer(max_df=0.95, min_df=2, max_features=no_features, stop_words='english')\n",
    "tfidf = tfidf_vectorizer.fit_transform(documents)\n",
    "tfidf_feature_names = tfidf_vectorizer.get_feature_names()\n",
    "\n",
    "# LDA can only use raw term counts for LDA because it is a probabilistic graphical model\n",
    "tf_vectorizer = CountVectorizer(max_df=0.95, min_df=2, max_features=no_features, stop_words='english')\n",
    "tf = tf_vectorizer.fit_transform(documents)\n",
    "tf_feature_names = tf_vectorizer.get_feature_names()\n",
    "\n",
    "no_topics = 10\n",
    "\n",
    "# Run NMF\n",
    "nmf = NMF(n_components=no_topics, random_state=1, alpha=.1, l1_ratio=.5, init='nndsvd').fit(tfidf)\n",
    "\n",
    "# Run LDA\n",
    "lda = LatentDirichletAllocation(n_topics=no_topics, max_iter=5, learning_method='online',\n",
    "                                learning_offset=50.,random_state=0).fit(tf)\n",
    "\n",
    "no_top_words = 10\n",
    "\n",
    "print('NMF')\n",
    "display_topics(nmf, tfidf_feature_names, no_top_words)\n",
    "print('\\n')\n",
    "print('LDA')\n",
    "display_topics(lda, tf_feature_names, no_top_words)"
   ]
  },
  {
   "cell_type": "code",
   "execution_count": 11,
   "metadata": {},
   "outputs": [
    {
     "data": {
      "text/plain": [
       "{'author': 'Paul Kasabian',\n",
       " 'description': 'The NBA All-Star Game will have a much different look this year. The traditional Eastern Conference vs. Western Conference format has been scrapped in favor of a playground-style game in which two captains pick sides. Those captains are Golden State Warriors …',\n",
       " 'publishedAt': '2018-02-18T14:00:00Z',\n",
       " 'source': {'id': 'bleacher-report', 'name': 'Bleacher Report'},\n",
       " 'title': 'NBA All-Star Game 2018: Format, TV Schedule, Live Stream, Rosters and Prediction',\n",
       " 'url': 'https://bleacherreport.com/articles/2760021-nba-all-star-game-2018-format-tv-schedule-live-stream-rosters-and-prediction',\n",
       " 'urlToImage': 'https://img.bleacherreport.net/img/images/photos/003/724/691/hi-res-b0f424980cc73292ab2c9198c683a567_crop_exact.jpg?w=1200&h=1200&q=75'}"
      ]
     },
     "execution_count": 11,
     "metadata": {},
     "output_type": "execute_result"
    }
   ],
   "source": [
    "all_articles[0]['title']"
   ]
  },
  {
   "cell_type": "code",
   "execution_count": 9,
   "metadata": {},
   "outputs": [
    {
     "data": {
      "text/plain": [
       "\"The NBA All-Star Game will have a much different look this year.The traditional Eastern Conference vs. Western Conference format has been scrapped in favor of a playground-style game in which two captains pick sides.Those captains are Golden State Warriors point guard Stephen Curry and Cleveland Cavaliers forward LeBron James, who were given a pool of players to choose from for their respective teams (named Team Stephen and Team LeBron).First, James and Curry each had to pick four players from a pool of eight contenders who were voted as starters prior to the draft. Then, they each selected seven reserves to round out their 12-person teams.Nothing about the game itself has changed: It will be a typical 48-minute NBA contest with four 12-minute quarters.Here's a look at the basic information surrounding the game, including the television schedule and live-stream links. You can also find the rosters, a few notable storylines and a prediction below.\\xa0 \\xa0 \\xa0 \\xa0 \\xa0 \\xa0 \\xa0 \\xa0 \\xa0 \\xa0 \\xa0TV Schedule and Live-Stream InformationThe 67th NBA All-Star Game begins on Sunday at 8 p.m. in the Staples Center, home of the Los Angeles Lakers and Los Angeles Clippers. TNT will televise the event, with coverage beginning at 7 p.m. ET.\\xa0The game can be streamed on\\xa0TNTdrama.com\\xa0or the\\xa0Watch TNT app.\\xa0 \\xa0 \\xa0 \\xa0 \\xa0 \\xa0 \\xa0 \\xa0 \\xa0 \\xa0 \\xa0 \\xa0 \\xa0 \\xa0 \\xa0 \\xa0 \\xa0 \\xa0 \\xa0\\xa0Team LeBron RosterHead CoachDwane Casey, Toronto Raptors\\xa0 \\xa0 \\xa0 \\xa0 \\xa0 \\xa0 \\xa0 \\xa0 \\xa0 \\xa0 \\xa0 \\xa0 \\xa0 \\xa0 \\xa0 \\xa0 \\xa0 \\xa0 \\xa0\\xa0StartersLeBron James, Cleveland CavaliersKevin Durant, Golden State WarriorsAnthony Davis, New Orleans PelicansKyrie Irving, Boston CelticsDeMarcus Cousins, New Orleans Pelicans#\\xa0 \\xa0 \\xa0 \\xa0 \\xa0 \\xa0 \\xa0 \\xa0 \\xa0 \\xa0 \\xa0 \\xa0 \\xa0ReservesLaMarcus Aldridge, San Antonio SpursBradley Beal, Washington WizardsGoran Dragic, Miami Heat*Andre Drummond, Detroit Pistons*Paul George, Oklahoma City Thunder*Victor Oladipo, Indiana PacersKemba Walker, Charlotte Hornets*Russell Westbrook, Oklahoma City ThunderKevin Love, Cleveland Cavaliers**Kristaps Porzingis, New York Knicks**John Wall, Washington Wizards**\\xa0 \\xa0 \\xa0 \\xa0 \\xa0 \\xa0 \\xa0 \\xa0 \\xa0 \\xa0 \\xa0 \\xa0 \\xa0 \\xa0 \\xa0 \\xa0 \\xa0*Injury replacement**Injured, will not play#Injured, replacement starter not announced\\xa0 \\xa0 \\xa0 \\xa0 \\xa0 \\xa0 \\xa0 \\xa0 \\xa0Team Stephen RosterHead CoachMike D'Antoni (Houston Rockets)\\xa0 \\xa0 \\xa0 \\xa0 \\xa0 \\xa0 \\xa0 \\xa0 \\xa0 \\xa0 \\xa0 \\xa0\\xa0StartersStephen Curry, Golden State WarriorsJames Harden, Houston RocketsDeMar DeRozan, Toronto RaptorsGiannis Antetokounmpo, Milwaukee BucksJoel Embiid, Philadelphia 76ers\\xa0 \\xa0 \\xa0 \\xa0 \\xa0 \\xa0 \\xa0 \\xa0 \\xa0 \\xa0 \\xa0 \\xa0 \\xa0 \\xa0 \\xa0 \\xa0 \\xa0 \\xa0ReservesJimmy Butler, Minnesota TimberwolvesDraymond Green, Golden State WarriorsAl Horford, Boston CelticsDamian Lillard, Portland Trail BlazersKyle Lowry, Toronto RaptorsKlay Thompson, Golden State WarriorsKarl-Anthony Towns, Minnesota Timberwolves\\xa0 \\xa0 \\xa0 \\xa0 \\xa0 \\xa0 \\xa0 \\xa0PredictionsDamian Lillard out to Prove Doubters Wrong?Portland Trail Blazers point guard Damian Lillard posted fantastic seasons in his past two full years, but his first-half performances weren't considered good enough to be named to the Western Conference All-Star team.Lillard has made the team in the past (twice, in 2013 and 2014), but he was considered a snub when he didn't make it within the past two seasons. He ended up finishing with scoring averages of 25.1 points per game in the 2015-16 season and 27.0 points a year later for a Blazers team that made the playoffs both times.However, the former Weber State star is back in the All-Star Game and could be looking to silence critics who didn't think he was All-Star caliber. It's certainly possible that we see Lillard light it up from behind the three-point line and score points in bunches, much like he did when he posted 50 against the Sacramento Kings despite playing only 29 minutes.\\xa0 \\xa0 \\xa0 \\xa0 \\xa0 \\xa0 \\xa0Durant vs. the Rest of the Warriors' All-Stars; Kyrie Irving vs. Al Horford; Dwane Casey vs. Kyle Lowry and DeMar DeRozanThe new All-Star Game format presents a unique opportunity to see teammates face off against each other in competition. As the All-Star Game has followed an Eastern Conference vs. Western Conference format since its inception, fans have never had the opportunity to see something like this in action.However, we'll be seeing a few unique matchups, perhaps none more than Golden State Warriors forward Kevin Durant going head-to-head with Curry, forward Draymond Green and shooting guard Klay Thompson. Of note, we could certainly see Green sticking with Durant on defense and trying to slow him down.Elsewhere, Toronto Raptors head coach Dwane Casey will be trying to beat his team's two star players (point guard Kyle Lowry and shooting guard DeMar DeRozan). Boston Celtics point guard Kyrie Irving is also leaving behind a new teammate (center Al Horford) for an old one (James) for one night only.\\xa0 \\xa0 \\xa0 \\xa0 \\xa0 \\xa0Score:\\xa0Team LeBron 155, Team Stephen 150Expect this to be a much more serious contest than last year, which proved to be defense-optional (or non-existent).The criticism surrounding last year's game was loud and voluminous, so expect to see more effort akin to past games. Furthermore, the players have been given an extra incentive, as the winners' cut is $100,000 each now (up from $50,000 last year).Furthermore, there's a certain level of pride on the line in this contest, especially for the two team captains. They will undoubtedly want to go out and prove they picked the right team in year one of this new format.In the end, give the edge to Team LeBron even though he's lost four of his players to lengthy injuries in between the All-Star draft and the game itself. He still has a loaded roster, led by New Orleans power forward Anthony Davis, Oklahoma City Thunder point guard Russell Westbrook and Durant. Combined with James, that seems like a near-impossible quartet to stop.Team Stephen has the edge on the reserve unit given the injuries Team LeBron has suffered, but their efforts won't be enough to win this game. Still, expect a close, competitive contest for 48 minutes and praise for the new format when the night is over.\""
      ]
     },
     "execution_count": 9,
     "metadata": {},
     "output_type": "execute_result"
    }
   ],
   "source": [
    "raw_docs[0]"
   ]
  },
  {
   "cell_type": "code",
   "execution_count": null,
   "metadata": {
    "collapsed": true
   },
   "outputs": [],
   "source": []
  }
 ],
 "metadata": {
  "kernelspec": {
   "display_name": "Python 3",
   "language": "python",
   "name": "python3"
  },
  "language_info": {
   "codemirror_mode": {
    "name": "ipython",
    "version": 3
   },
   "file_extension": ".py",
   "mimetype": "text/x-python",
   "name": "python",
   "nbconvert_exporter": "python",
   "pygments_lexer": "ipython3",
   "version": "3.6.3"
  }
 },
 "nbformat": 4,
 "nbformat_minor": 2
}
