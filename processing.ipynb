{
 "cells": [
  {
   "cell_type": "code",
   "execution_count": 181,
   "metadata": {},
   "outputs": [
    {
     "name": "stdout",
     "output_type": "stream",
     "text": [
      "dict_keys(['bron', 'kd', 'steph', 'harden', 'russel', 'davis'])\n"
     ]
    }
   ],
   "source": [
    "import pickle\n",
    "import nltk\n",
    "import re\n",
    "\n",
    "player_names = [\"bron\", \"kd\", \"steph\", \"harden\", \"russel\", \"davis\"]\n",
    "player_docs = {}\n",
    "\n",
    "for name in player_names:\n",
    "    file = name+\"_from_oct17\"\n",
    "    with open (file, 'rb') as fp:\n",
    "        player_docs[name] = pickle.load(fp)\n",
    "\n",
    "print(player_docs.keys())"
   ]
  },
  {
   "cell_type": "code",
   "execution_count": 182,
   "metadata": {},
   "outputs": [],
   "source": [
    "for k in player_docs.keys():\n",
    "    player_docs[k] = list(player_docs[k])\n",
    "\n",
    "Bron, KD, Steph, Harden, Russell, Davis = {}, {}, {}, {}, {}, {}\n",
    "names = {'bron':Bron, 'kd':KD, 'steph':Steph, 'harden':Harden, 'russel':Russell, 'davis':Davis}\n",
    "\n",
    "for k, v in names.items():\n",
    "    for i in range(len(player_docs[k])):\n",
    "        v[i] = player_docs[k][i]\n",
    "        v[i] = re.sub(r'(?<=[a-z])(?=[A-Z])', ' ', ' '.join(v[i].split()))\n",
    "        v[i] = nltk.word_tokenize(v[i])\n",
    "        v[i] = nltk.Text(v[i])"
   ]
  },
  {
   "cell_type": "code",
   "execution_count": null,
   "metadata": {
    "collapsed": true
   },
   "outputs": [],
   "source": []
  },
  {
   "cell_type": "code",
   "execution_count": null,
   "metadata": {
    "collapsed": true
   },
   "outputs": [],
   "source": []
  },
  {
   "cell_type": "code",
   "execution_count": null,
   "metadata": {
    "collapsed": true
   },
   "outputs": [],
   "source": []
  },
  {
   "cell_type": "code",
   "execution_count": null,
   "metadata": {
    "collapsed": true
   },
   "outputs": [],
   "source": []
  },
  {
   "cell_type": "code",
   "execution_count": null,
   "metadata": {
    "collapsed": true
   },
   "outputs": [],
   "source": []
  },
  {
   "cell_type": "code",
   "execution_count": null,
   "metadata": {
    "collapsed": true
   },
   "outputs": [],
   "source": []
  },
  {
   "cell_type": "code",
   "execution_count": null,
   "metadata": {
    "collapsed": true
   },
   "outputs": [],
   "source": []
  },
  {
   "cell_type": "code",
   "execution_count": null,
   "metadata": {
    "collapsed": true
   },
   "outputs": [],
   "source": []
  },
  {
   "cell_type": "code",
   "execution_count": null,
   "metadata": {
    "collapsed": true
   },
   "outputs": [],
   "source": []
  },
  {
   "cell_type": "code",
   "execution_count": null,
   "metadata": {
    "collapsed": true
   },
   "outputs": [],
   "source": []
  },
  {
   "cell_type": "code",
   "execution_count": 191,
   "metadata": {},
   "outputs": [
    {
     "name": "stdout",
     "output_type": "stream",
     "text": [
      "Displaying 1 of 1 matches:\n",
      "in History : MJ Scores Career-High 69 Pts Could Li Angelo Join Lonzo on the Lak\n"
     ]
    }
   ],
   "source": [
    "KD[0].concordance('Pts')"
   ]
  },
  {
   "cell_type": "code",
   "execution_count": 201,
   "metadata": {},
   "outputs": [
    {
     "name": "stdout",
     "output_type": "stream",
     "text": [
      "Displaying 1 of 1 matches:\n",
      "big opportunity in June.He 's not Le Bron James or Paul George , but that 's n\n"
     ]
    }
   ],
   "source": [
    "player_docs['bron'][2]\n",
    "Bron[2].concordance('Bron')"
   ]
  },
  {
   "cell_type": "code",
   "execution_count": 158,
   "metadata": {},
   "outputs": [
    {
     "data": {
      "text/plain": [
       "'Golden tate Warriors big man Zaza Pachulia '"
      ]
     },
     "execution_count": 158,
     "metadata": {},
     "output_type": "execute_result"
    }
   ],
   "source": [
    "\"\"\"Golden State Warriors big man Zaza Pachulia \"\"\".replace('S', '')"
   ]
  },
  {
   "cell_type": "code",
   "execution_count": 175,
   "metadata": {},
   "outputs": [
    {
     "data": {
      "text/plain": [
       "'Golden State Warriors big man Zaza Pachulia won\\'t receive a fine or suspension from the NBA regarding an incident in which he fell on the legs of Oklahoma City Thunder star Russell Westbrook, the Washington Post\\'s Tim Bontemps reported Monday.Andre Ingram Put on a Show in His NBA Debut Turner\\'s Showcase Giving Overlooked Ballers a Chance Raptors Have Dominated Since \\'God\\'s Plan\\'Jimmy Was Clowning While He Was Hurt Simmons Averaging a Triple Double Over Win Streak Mo Bamba Could Be the Next Rudy Gobert Jason Kidd, Steve Nash Headline Basketball Ho F Class Mikal Bridges Could Be NBA\\'s Next Otto Porter Jr.Today in History: MJ Scores Career-High 69 Pts Could Li Angelo Join Lonzo on the Lakers?Dwight Joins Love & Kareem with Historic 30/30 Night Westbrook\\'s Road to 100 Triple-Doubles The NBA Is a Mess in the Best Way Possible The NBA Still Has a Massive Tanking Problem Rodman Is Living His Best Life in New Jersey Suburbs Has the Brow Forced His Way into MVP Convo?Sunday\\'s ASG Was a Start, but It Still Needs Fixing Hawks Fans Keep Getting Burned by Hot Sauce Relive AI and Kobe Facing Off in the ASGWho Is the Dancing Rockets Fan?Westbrook had contended Pachulia intentionally fell on him during the Warriors\\' 112-80 victory on Saturday.\"Nobody touched me,\" Westbrook said, per the Mercury News\\' Mark Medina. \"He fell over my leg. He tried to hurt me. But hey, that’s how it goes.\"Westbrook\\'s Thunder teammate Paul George also said the incident was \"Zaza making a Zaza play\" and argued the 34-year-old center is \"on the end of hurting a lot of guys.\"According to Medina, Pachulia denied the accusation he tried to hurt Westbrook and called the reigning MVP\\'s comments \"childish.\"Warriors star Kevin Durant sided with his teammate and said Pachulia was merely \"clumsy,\" per The Athletic\\'s Anthony Slater:KD on the Zaza-Russ play: \"I don\\'t think Zaza is trying to hurt anybody. He is clumsy.\" https://t.co/x VIz Wtv2VDMost recently, Pachulia drew the ire of San Antonio Spurs head coach Gregg Popovich after Spurs star Kawhi Leonard landed on Pachulia\\'s foot during Game 1 of last year\\'s Western Conference Finals. Leonard suffered a sprained ankle that kept him out for the rest of the series.When speaking to reporters during the conference finals, Popovich contended Pachulia hadn\\'t made a natural closeout when defending Leonard\\'s shot and said Pachulia \"has a history with that kind of action.\"With the league taking no action against him, Pachulia will be available to play Monday night against the New York Knicks.'"
      ]
     },
     "execution_count": 175,
     "metadata": {},
     "output_type": "execute_result"
    }
   ],
   "source": [
    "t = re.sub(r'(?<=[a-z])(?=[A-Z])', ' ', ' '.join(kd[0].split()))\n",
    "t\n",
    "#t.replace(\"\\\\'\", \"'\")"
   ]
  },
  {
   "cell_type": "code",
   "execution_count": 177,
   "metadata": {},
   "outputs": [
    {
     "data": {
      "text/plain": [
       "\"Zaza Pachulia won't \""
      ]
     },
     "execution_count": 177,
     "metadata": {},
     "output_type": "execute_result"
    }
   ],
   "source": [
    "kd[0][30:50]"
   ]
  },
  {
   "cell_type": "code",
   "execution_count": 173,
   "metadata": {},
   "outputs": [
    {
     "data": {
      "text/plain": [
       "'Golden State Warriors big man Zaza Pachulia won\\'t receive a fine or suspension from the NBA regarding an incident in which he fell on the legs of Oklahoma City Thunder star Russell Westbrook, the Washington Post\\'s Tim Bontemps reported Monday.Andre Ingram Put on a Show in His NBA Debut Turner\\'s Showcase Giving Overlooked Ballers a Chance Raptors Have Dominated Since \\'God\\'s Plan\\'Jimmy Was Clowning While He Was Hurt Simmons Averaging a Triple Double Over Win Streak Mo Bamba Could Be the Next Rudy Gobert Jason Kidd, Steve Nash Headline Basketball Ho F Class Mikal Bridges Could Be NBA\\'s Next Otto Porter Jr.Today in History: MJ Scores Career-High 69 Pts Could Li Angelo Join Lonzo on the Lakers?Dwight Joins Love & Kareem with Historic 30/30 Night Westbrook\\'s Road to 100 Triple-Doubles The NBA Is a Mess in the Best Way Possible The NBA Still Has a Massive Tanking Problem Rodman Is Living His Best Life in New Jersey Suburbs Has the Brow Forced His Way into MVP Convo?Sunday\\'s ASG Was a Start, but It Still Needs Fixing Hawks Fans Keep Getting Burned by Hot Sauce Relive AI and Kobe Facing Off in the ASGWho Is the Dancing Rockets Fan?Westbrook had contended Pachulia intentionally fell on him during the Warriors\\' 112-80 victory on Saturday.\"Nobody touched me,\" Westbrook said, per the Mercury News\\' Mark Medina. \"He fell over my leg. He tried to hurt me. But hey, that’s how it goes.\"Westbrook\\'s Thunder teammate Paul George also said the incident was \"Zaza making a Zaza play\" and argued the 34-year-old center is \"on the end of hurting a lot of guys.\"According to Medina, Pachulia denied the accusation he tried to hurt Westbrook and called the reigning MVP\\'s comments \"childish.\"Warriors star Kevin Durant sided with his teammate and said Pachulia was merely \"clumsy,\" per The Athletic\\'s Anthony Slater:KD on the Zaza-Russ play: \"I don\\'t think Zaza is trying to hurt anybody. He is clumsy.\" https://t.co/x VIz Wtv2VDMost recently, Pachulia drew the ire of San Antonio Spurs head coach Gregg Popovich after Spurs star Kawhi Leonard landed on Pachulia\\'s foot during Game 1 of last year\\'s Western Conference Finals. Leonard suffered a sprained ankle that kept him out for the rest of the series.When speaking to reporters during the conference finals, Popovich contended Pachulia hadn\\'t made a natural closeout when defending Leonard\\'s shot and said Pachulia \"has a history with that kind of action.\"With the league taking no action against him, Pachulia will be available to play Monday night against the New York Knicks.'"
      ]
     },
     "execution_count": 173,
     "metadata": {},
     "output_type": "execute_result"
    }
   ],
   "source": [
    "t"
   ]
  },
  {
   "cell_type": "code",
   "execution_count": 145,
   "metadata": {},
   "outputs": [
    {
     "data": {
      "text/plain": [
       "'Golden State Warriors big man Zaza Pachulia won\\'t receive a fine or suspension from the NBA regarding an incident in which he fell on the legs of Oklahoma City Thunder star Russell Westbrook, the Washington Post\\'s Tim Bontemps reported Monday.Andre Ingram Put on a Show in His NBA Debut Turner\\'s Showcase Giving Overlooked Ballers a Chance Raptors Have Dominated Since \\'God\\'s Plan\\'Jimmy Was Clowning While He Was Hurt Simmons Averaging a Triple Double Over Win Streak Mo Bamba Could Be the Next Rudy Gobert Jason Kidd, Steve Nash Headline Basketball Ho F Class Mikal Bridges Could Be NBA\\'s Next Otto Porter Jr.Today in History: MJ Scores Career-High 69 Pts Could Li Angelo Join Lonzo on the Lakers?Dwight Joins Love & Kareem with Historic 30/30 Night Westbrook\\'s Road to 100 Triple-Doubles The NBA Is a Mess in the Best Way Possible The NBA Still Has a Massive Tanking Problem Rodman Is Living His Best Life in New Jersey Suburbs Has the Brow Forced His Way into MVP Convo?Sunday\\'s ASG Was a Start, but It Still Needs Fixing Hawks Fans Keep Getting Burned by Hot Sauce Relive AI and Kobe Facing Off in the ASGWho Is the Dancing Rockets Fan?Westbrook had contended Pachulia intentionally fell on him during the Warriors\\' 112-80 victory on Saturday.\"Nobody touched me,\" Westbrook said, per the Mercury News\\' Mark Medina. \"He fell over my leg. He tried to hurt me. But hey, that’s how it goes.\"Westbrook\\'s Thunder teammate Paul George also said the incident was \"Zaza making a Zaza play\" and argued the 34-year-old center is \"on the end of hurting a lot of guys.\"According to Medina, Pachulia denied the accusation he tried to hurt Westbrook and called the reigning MVP\\'s comments \"childish.\"Warriors star Kevin Durant sided with his teammate and said Pachulia was merely \"clumsy,\" per The Athletic\\'s Anthony Slater:KD on the Zaza-Russ play: \"I don\\'t think Zaza is trying to hurt anybody. He is clumsy.\" https://t.co/x VIz Wtv2VDMost recently, Pachulia drew the ire of San Antonio Spurs head coach Gregg Popovich after Spurs star Kawhi Leonard landed on Pachulia\\'s foot during Game 1 of last year\\'s Western Conference Finals. Leonard suffered a sprained ankle that kept him out for the rest of the series.When speaking to reporters during the conference finals, Popovich contended Pachulia hadn\\'t made a natural closeout when defending Leonard\\'s shot and said Pachulia \"has a history with that kind of action.\"With the league taking no action against him, Pachulia will be available to play Monday night against the New York Knicks.'"
      ]
     },
     "execution_count": 145,
     "metadata": {},
     "output_type": "execute_result"
    }
   ],
   "source": [
    "re.sub(r'(?<=[a-z])(?=[A-Z])', ' ', ' '.join(kd[0].split()))"
   ]
  },
  {
   "cell_type": "code",
   "execution_count": 147,
   "metadata": {},
   "outputs": [
    {
     "data": {
      "text/plain": [
       "str"
      ]
     },
     "execution_count": 147,
     "metadata": {},
     "output_type": "execute_result"
    }
   ],
   "source": [
    "type(kd[0])"
   ]
  },
  {
   "cell_type": "code",
   "execution_count": null,
   "metadata": {
    "collapsed": true
   },
   "outputs": [],
   "source": []
  },
  {
   "cell_type": "code",
   "execution_count": 62,
   "metadata": {},
   "outputs": [
    {
     "data": {
      "text/plain": [
       "1"
      ]
     },
     "execution_count": 62,
     "metadata": {},
     "output_type": "execute_result"
    }
   ],
   "source": [
    "kd_text.count('big')"
   ]
  },
  {
   "cell_type": "code",
   "execution_count": 34,
   "metadata": {},
   "outputs": [
    {
     "data": {
      "text/plain": [
       "9"
      ]
     },
     "execution_count": 34,
     "metadata": {},
     "output_type": "execute_result"
    }
   ],
   "source": [
    "kd_text.count('Pachulia')"
   ]
  },
  {
   "cell_type": "code",
   "execution_count": 17,
   "metadata": {},
   "outputs": [
    {
     "data": {
      "text/plain": [
       "'Golden State Warriors big man Zaza Pachulia won\\'t receive a fine or suspension from the NBA regarding an incident in which he fell on the legs of Oklahoma City Thunder star Russell Westbrook, the Washington Post\\'s Tim Bontemps reported Monday.Andre Ingram Put on a Show in His NBA DebutTurner\\'s Showcase Giving Overlooked Ballers a ChanceRaptors Have Dominated Since \\'God\\'s Plan\\'Jimmy Was Clowning While He Was HurtSimmons Averaging a Triple Double Over Win StreakMo Bamba Could Be the Next Rudy GobertJason Kidd, Steve Nash Headline Basketball HoF ClassMikal Bridges Could Be NBA\\'s Next Otto Porter Jr.Today in History: MJ Scores Career-High 69 PtsCould LiAngelo Join Lonzo on the Lakers?Dwight Joins Love & Kareem with Historic 30/30 NightWestbrook\\'s Road to 100 Triple-DoublesThe NBA Is a Mess in the Best Way PossibleThe NBA Still Has a Massive Tanking ProblemRodman Is Living His Best Life in New Jersey SuburbsHas the Brow Forced His Way into MVP Convo?Sunday\\'s ASG Was a Start, but It Still Needs FixingHawks Fans Keep Getting Burned by Hot SauceRelive AI and Kobe Facing Off in the ASGWho Is the Dancing Rockets Fan?Westbrook had contended Pachulia intentionally fell on him during the Warriors\\' 112-80 victory on Saturday.\"Nobody touched me,\" Westbrook said, per the Mercury News\\' Mark Medina. \"He fell over my leg.\\xa0He tried to hurt me. But hey, that’s how it goes.\"Westbrook\\'s Thunder teammate Paul George also said the incident was \"Zaza making a Zaza play\" and argued the 34-year-old center is \"on the end of hurting a lot of guys.\"According to Medina, Pachulia denied the accusation he tried to hurt Westbrook and called the reigning MVP\\'s comments \"childish.\"Warriors star Kevin Durant sided with his teammate and said\\xa0Pachulia was merely \"clumsy,\" per The Athletic\\'s Anthony Slater:KD on the Zaza-Russ play: \"I don\\'t think Zaza is trying to hurt anybody. He is clumsy.\" https://t.co/xVIzWtv2VDMost recently, Pachulia drew the ire of San Antonio Spurs head coach Gregg Popovich after Spurs star Kawhi Leonard landed on Pachulia\\'s foot during Game 1 of last year\\'s Western Conference Finals. Leonard suffered a\\xa0sprained ankle\\xa0that kept him out for the rest of the series.When speaking to reporters during the conference finals, Popovich\\xa0contended\\xa0Pachulia hadn\\'t made a natural closeout when defending Leonard\\'s shot and said Pachulia \"has a history with that kind of action.\"With the league taking no action against him, Pachulia will be available to play Monday night against the New York Knicks.'"
      ]
     },
     "execution_count": 17,
     "metadata": {},
     "output_type": "execute_result"
    }
   ],
   "source": [
    "kd[0]"
   ]
  },
  {
   "cell_type": "code",
   "execution_count": null,
   "metadata": {
    "collapsed": true
   },
   "outputs": [],
   "source": []
  },
  {
   "cell_type": "code",
   "execution_count": null,
   "metadata": {
    "collapsed": true
   },
   "outputs": [],
   "source": []
  },
  {
   "cell_type": "code",
   "execution_count": null,
   "metadata": {
    "collapsed": true
   },
   "outputs": [],
   "source": []
  },
  {
   "cell_type": "code",
   "execution_count": 50,
   "metadata": {},
   "outputs": [
    {
     "data": {
      "text/plain": [
       "['the', 'CavaliersEverything.Though', 'the', 'Cavaliers', 'have', 'hedged']"
      ]
     },
     "execution_count": 50,
     "metadata": {},
     "output_type": "execute_result"
    }
   ],
   "source": [
    "'the CavaliersEverything.Though the Cavaliers have hedged'.split(' ')"
   ]
  },
  {
   "cell_type": "code",
   "execution_count": 51,
   "metadata": {},
   "outputs": [
    {
     "data": {
      "text/plain": [
       "['the CavaliersEverything', 'Though the Cavaliers have hedged']"
      ]
     },
     "execution_count": 51,
     "metadata": {},
     "output_type": "execute_result"
    }
   ],
   "source": [
    "'the CavaliersEverything.Though the Cavaliers have hedged'.split('.')"
   ]
  },
  {
   "cell_type": "code",
   "execution_count": 68,
   "metadata": {},
   "outputs": [
    {
     "data": {
      "text/plain": [
       "'league. Cleveland Cavaliers What It Means for the Cav'"
      ]
     },
     "execution_count": 68,
     "metadata": {},
     "output_type": "execute_result"
    }
   ],
   "source": [
    "re.sub(r'(?<=[a-z])(?=[A-Z])', ' ', ' '.join('league.\\xa0 \\xa0 \\xa0 \\xa0 \\xa0Cleveland CavaliersWhat It Means for the Cav'.split()))"
   ]
  },
  {
   "cell_type": "code",
   "execution_count": 66,
   "metadata": {},
   "outputs": [
    {
     "data": {
      "text/plain": [
       "\"NBA Commissioner Adam Silver's window. Strain your\""
      ]
     },
     "execution_count": 66,
     "metadata": {},
     "output_type": "execute_result"
    }
   ],
   "source": [
    "re.sub(r'(?<=[a-z])(?=[A-Z])', ' ', ' '.join('NBA Commissioner Adam Silver\\'s window. Strain your'.split()))"
   ]
  },
  {
   "cell_type": "code",
   "execution_count": 63,
   "metadata": {},
   "outputs": [
    {
     "data": {
      "text/plain": [
       "'Hello CHARLIE this is Bob.'"
      ]
     },
     "execution_count": 63,
     "metadata": {},
     "output_type": "execute_result"
    }
   ],
   "source": [
    "import re\n",
    "string = 'HelloCHARLIE this isBob.'\n",
    "re.sub(r'(?<=[a-z])(?=[A-Z])', ' ', string)"
   ]
  },
  {
   "cell_type": "code",
   "execution_count": 70,
   "metadata": {},
   "outputs": [
    {
     "data": {
      "text/plain": [
       "'Dwyane Wade on the Miami Heat.A second departure'"
      ]
     },
     "execution_count": 70,
     "metadata": {},
     "output_type": "execute_result"
    }
   ],
   "source": [
    "string = re.sub(r'(?<=[a-z])(?=[A-Z])', ' ', ' '.join(' Dwyane Wade on the Miami Heat.A second departure '.split()))\n",
    "string"
   ]
  },
  {
   "cell_type": "code",
   "execution_count": 71,
   "metadata": {},
   "outputs": [
    {
     "data": {
      "text/plain": [
       "48"
      ]
     },
     "execution_count": 71,
     "metadata": {},
     "output_type": "execute_result"
    }
   ],
   "source": [
    "len(string)"
   ]
  },
  {
   "cell_type": "code",
   "execution_count": null,
   "metadata": {
    "collapsed": true
   },
   "outputs": [],
   "source": []
  }
 ],
 "metadata": {
  "kernelspec": {
   "display_name": "Python 3",
   "language": "python",
   "name": "python3"
  },
  "language_info": {
   "codemirror_mode": {
    "name": "ipython",
    "version": 3
   },
   "file_extension": ".py",
   "mimetype": "text/x-python",
   "name": "python",
   "nbconvert_exporter": "python",
   "pygments_lexer": "ipython3",
   "version": "3.6.3"
  }
 },
 "nbformat": 4,
 "nbformat_minor": 2
}
