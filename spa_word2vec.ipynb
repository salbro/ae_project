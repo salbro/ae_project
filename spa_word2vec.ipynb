{
 "cells": [
  {
   "cell_type": "code",
   "execution_count": 4,
   "metadata": {},
   "outputs": [],
   "source": [
    "import pickle\n",
    "import numpy as np\n",
    "import re\n",
    "from utils import clean\n",
    "\n",
    "with open (\"data/old/all_nba_from_oct17\", 'rb') as fp:\n",
    "    doc_set = pickle.load(fp)\n",
    "docs = list(doc_set)\n",
    "\n",
    "from gensim.models import Word2Vec"
   ]
  },
  {
   "cell_type": "code",
   "execution_count": 5,
   "metadata": {},
   "outputs": [
    {
     "data": {
      "text/plain": [
       "'The complete rosters for the 2018 NBA All-Star Game in Los Angeles were revealed Thursday after team captains LeBron James (Eastern Conference) and Stephen Curry (Western Conference) picked their squads during a conference call with league officials.\\xa0The lineups and this year\\'s new Jordan Brand jerseys can be viewed below:\\xa0It\\'s time. 🔥\\n\\nThe first look at the 2018 #NBAAllStar jerseys presented by @Jumpman23 https://t.co/3mRjAXGIpQTeam LeBronTeam Stephen\\xa0 \\xa0 \\xa0 \\xa0 \\xa0 \\xa0 \\xa0James kicked things off by making the No. 1 overall pick after he was named the All-Star Game\\'s leading vote-getter. Picks subsequently alternated between the two captains for the rest of the first round until the eight remaining starters were selected.\\xa0Curry\\'s team then made the first pick of the second round,\\xa0when all 14 reserves were eligible to come off the board.\\xa0Once the draft was over, James and Curry reflected on the process and said they hope to see it televised in 2019:\\xa0\"It definitely should have been televised.\" \\n\\n@KingJames (#TeamLeBron) &amp; @StephenCurry30 (#TeamStephen) react to @TurnerSportsEJ asking about who they took when and why. \\n\\n#NBAAllStar https://t.co/BligFCXmEtLeBron refused to disclose who he picked first, but conventional wisdom suggests he went with Kevin Durant after Steph\\xa0told reporters\\xa0Jan. 18 that he would take his teammate if he wasn\\'t selected first.\\xa0\"#TeamLeBron is about to destroy #TeamSteph\" https://t.co/vO5r38ddgTPerhaps more noteworthy, though, was that James added Kyrie Irving to his roster after the Boston Celtics floor general had an acrimonious split from the Cleveland Cavaliers that was\\xa0reportedly facilitated\\xa0by his desire to no longer play alongside LeBron.\\xa0\\xa0Above all else, both captains appeared to prize chemistry.\\xa0LeBron has extensive experience playing with both Irving and Kevin Love, and he made a concerted effort to add a pair of teammates in New Orleans Pelicans bigs Anthony Davis and DeMarcus Cousins as well as Washington Wizards backcourt mates John Wall and Bradley Beal.Plus, he reunited Durant, Russell Westbrook and Victor Oladipo following their time together with the Oklahoma City Thunder.\\xa0\"Important to have my teammate alongside me.\" \\n\\n@KingJames (#TeamLeBron) and @StephenCurry30 (#TeamStephen) break down their 2018 #NBAAllStar selections. https://t.co/mjFkv0HBTtCurry had a similar strategy, nabbing Warriors teammates Klay Thompson and Draymond Green, Minnesota Timberwolves studs Jimmy Butler and Karl-Anthony Towns and Toronto Raptors guards Kyle Lowry and DeMar DeRozan.\\xa0The two-time MVP also had the luxury of picking Milwaukee Bucks point-forward\\xa0Giannis Antetokounmpo a year after he was posterized by the Greek Freak on the exhibition stage in New Orleans.\\xa0The 2018 NBA All-Star Game will tip off Feb. 18 at 8 p.m. ET from Staples Center.\\xa0'"
      ]
     },
     "execution_count": 5,
     "metadata": {},
     "output_type": "execute_result"
    }
   ],
   "source": [
    "docs[0]"
   ]
  },
  {
   "cell_type": "code",
   "execution_count": 6,
   "metadata": {},
   "outputs": [],
   "source": [
    "from nltk import sent_tokenize #### rememeber this\n",
    "from nltk.tokenize import word_tokenize\n",
    "from nltk.corpus import stopwords\n",
    "stop_words = stopwords.words('english')\n",
    "\n",
    "from nltk.stem.porter import PorterStemmer\n",
    "porter = PorterStemmer()"
   ]
  },
  {
   "cell_type": "code",
   "execution_count": 7,
   "metadata": {},
   "outputs": [],
   "source": [
    "def clean_sentence(sentence):\n",
    "    words = [word for word in word_tokenize(sentence) if word.isalpha()]\n",
    "    # convert everything to lower case\n",
    "    words = [w.lower() for w in words]\n",
    "\n",
    "    # split on caps\n",
    "    words = [split_on_caps(w) for w in words]\n",
    "\n",
    "    return \" \".join(words).split()"
   ]
  },
  {
   "cell_type": "code",
   "execution_count": 10,
   "metadata": {},
   "outputs": [],
   "source": [
    "# docs[0]"
   ]
  },
  {
   "cell_type": "code",
   "execution_count": 11,
   "metadata": {},
   "outputs": [
    {
     "data": {
      "text/plain": [
       "['The complete rosters for the 2018 NBA All-Star Game in Los Angeles were revealed Thursday after team captains LeBron James (Eastern Conference) and Stephen Curry (Western Conference) picked their squads during a conference call with league officials.',\n",
       " \"The lineups and this year's new Jordan Brand jerseys can be viewed below:\\xa0It's time.\",\n",
       " '🔥\\n\\nThe first look at the 2018 #NBAAllStar jerseys presented by @Jumpman23 https://t.co/3mRjAXGIpQTeam LeBronTeam Stephen\\xa0 \\xa0 \\xa0 \\xa0 \\xa0 \\xa0 \\xa0James kicked things off by making the No.',\n",
       " \"1 overall pick after he was named the All-Star Game's leading vote-getter.\",\n",
       " 'Picks subsequently alternated between the two captains for the rest of the first round until the eight remaining starters were selected.',\n",
       " \"Curry's team then made the first pick of the second round,\\xa0when all 14 reserves were eligible to come off the board.\",\n",
       " 'Once the draft was over, James and Curry reflected on the process and said they hope to see it televised in 2019:\\xa0\"It definitely should have been televised.\"',\n",
       " '@KingJames (#TeamLeBron) &amp; @StephenCurry30 (#TeamStephen) react to @TurnerSportsEJ asking about who they took when and why.',\n",
       " \"#NBAAllStar https://t.co/BligFCXmEtLeBron refused to disclose who he picked first, but conventional wisdom suggests he went with Kevin Durant after Steph\\xa0told reporters\\xa0Jan. 18 that he would take his teammate if he wasn't selected first.\",\n",
       " '\"#TeamLeBron is about to destroy #TeamSteph\" https://t.co/vO5r38ddgTPerhaps more noteworthy, though, was that James added Kyrie Irving to his roster after the Boston Celtics floor general had an acrimonious split from the Cleveland Cavaliers that was\\xa0reportedly facilitated\\xa0by his desire to no longer play alongside LeBron.',\n",
       " 'Above all else, both captains appeared to prize chemistry.',\n",
       " 'LeBron has extensive experience playing with both Irving and Kevin Love, and he made a concerted effort to add a pair of teammates in New Orleans Pelicans bigs Anthony Davis and DeMarcus Cousins as well as Washington Wizards backcourt mates John Wall and Bradley Beal.Plus, he reunited Durant, Russell Westbrook and Victor Oladipo following their time together with the Oklahoma City Thunder.',\n",
       " '\"Important to have my teammate alongside me.\"',\n",
       " '@KingJames (#TeamLeBron) and @StephenCurry30 (#TeamStephen) break down their 2018 #NBAAllStar selections.',\n",
       " 'https://t.co/mjFkv0HBTtCurry had a similar strategy, nabbing Warriors teammates Klay Thompson and Draymond Green, Minnesota Timberwolves studs Jimmy Butler and Karl-Anthony Towns and Toronto Raptors guards Kyle Lowry and DeMar DeRozan.',\n",
       " 'The two-time MVP also had the luxury of picking Milwaukee Bucks point-forward\\xa0Giannis Antetokounmpo a year after he was posterized by the Greek Freak on the exhibition stage in New Orleans.',\n",
       " 'The 2018 NBA All-Star Game will tip off Feb. 18 at 8 p.m.',\n",
       " 'ET from Staples Center.']"
      ]
     },
     "execution_count": 11,
     "metadata": {},
     "output_type": "execute_result"
    }
   ],
   "source": [
    "# sent_tokenize(docs[0])"
   ]
  },
  {
   "cell_type": "code",
   "execution_count": 108,
   "metadata": {},
   "outputs": [
    {
     "name": "stdout",
     "output_type": "stream",
     "text": [
      "CPU times: user 22.5 s, sys: 146 ms, total: 22.6 s\n",
      "Wall time: 22.8 s\n"
     ]
    }
   ],
   "source": [
    "%%time\n",
    "all_sentences = []\n",
    "for doc in docs:\n",
    "    all_sentences += [clean_sentence(sentence) for sentence in sent_tokenize(doc)]\n",
    "    \n",
    "len(all_sentences)"
   ]
  },
  {
   "cell_type": "code",
   "execution_count": null,
   "metadata": {},
   "outputs": [],
   "source": []
  },
  {
   "cell_type": "code",
   "execution_count": 134,
   "metadata": {},
   "outputs": [
    {
     "name": "stdout",
     "output_type": "stream",
     "text": [
      "CPU times: user 2min 30s, sys: 1.03 s, total: 2min 31s\n",
      "Wall time: 55.8 s\n"
     ]
    }
   ],
   "source": [
    "%%time\n",
    "model = Word2Vec(size=30)\n",
    "model.build_vocab(all_sentences)\n",
    "model.train(all_sentences, total_examples=model.corpus_count, epochs=50)"
   ]
  },
  {
   "cell_type": "code",
   "execution_count": 144,
   "metadata": {},
   "outputs": [
    {
     "name": "stdout",
     "output_type": "stream",
     "text": [
      "love\n"
     ]
    },
    {
     "data": {
      "text/plain": [
       "[('james', 0.8014628887176514),\n",
       " ('harden', 0.7845656871795654),\n",
       " ('steph', 0.660460352897644),\n",
       " ('curry', 0.6287393569946289),\n",
       " ('captains', 0.6204112768173218),\n",
       " ('cleveland', 0.6165857315063477),\n",
       " ('pierce', 0.611995279788971),\n",
       " ('stephen', 0.6034107804298401),\n",
       " ('george', 0.5979452133178711),\n",
       " ('love', 0.596632182598114)]"
      ]
     },
     "execution_count": 144,
     "metadata": {},
     "output_type": "execute_result"
    }
   ],
   "source": [
    "s = model.wv.doesnt_match('okc thunder westbrook adams love'.split())\n",
    "print(s)\n",
    "model.wv.most_similar('lebron')"
   ]
  },
  {
   "cell_type": "code",
   "execution_count": 93,
   "metadata": {},
   "outputs": [],
   "source": [
    "# # persist the model to a disk\n",
    "# model.save(fname)\n",
    "# model = Word2Vec.load(fname)  "
   ]
  }
 ],
 "metadata": {
  "kernelspec": {
   "display_name": "Python 3",
   "language": "python",
   "name": "python3"
  },
  "language_info": {
   "codemirror_mode": {
    "name": "ipython",
    "version": 3
   },
   "file_extension": ".py",
   "mimetype": "text/x-python",
   "name": "python",
   "nbconvert_exporter": "python",
   "pygments_lexer": "ipython3",
   "version": "3.6.4"
  }
 },
 "nbformat": 4,
 "nbformat_minor": 2
}
