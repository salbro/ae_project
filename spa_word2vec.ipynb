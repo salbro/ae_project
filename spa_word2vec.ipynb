{
 "cells": [
  {
   "cell_type": "code",
   "execution_count": 1,
   "metadata": {},
   "outputs": [],
   "source": [
    "import pickle\n",
    "import numpy as np\n",
    "import re\n",
    "from utils import clean\n",
    "from gensim.models import Word2Vec\n",
    "import codecs, json"
   ]
  },
  {
   "cell_type": "code",
   "execution_count": 2,
   "metadata": {},
   "outputs": [],
   "source": [
    "import pandas as pd\n",
    "from utils import clean, split_on_caps, TOP_100_PLAYERS"
   ]
  },
  {
   "cell_type": "code",
   "execution_count": 3,
   "metadata": {},
   "outputs": [],
   "source": [
    "docs_raw_filename = \"docs_raw_saturday2\"\n",
    "with open (docs_raw_filename, 'rb') as fp:\n",
    "    docs = pickle.load(fp)\n",
    "    \n",
    "article_dicts_filename = \"article_dicts_saturday2\"\n",
    "all_articles = []\n",
    "with codecs.open(article_dicts_filename,'rU','utf-8') as f:\n",
    "    for line in f:\n",
    "        all_articles.append(json.loads(line))"
   ]
  },
  {
   "cell_type": "code",
   "execution_count": 4,
   "metadata": {},
   "outputs": [],
   "source": [
    "from nltk import sent_tokenize #### rememeber this\n",
    "from nltk.tokenize import word_tokenize\n",
    "from nltk.corpus import stopwords\n",
    "stop_words = stopwords.words('english')\n",
    "\n",
    "from nltk.stem.porter import PorterStemmer\n",
    "porter = PorterStemmer()"
   ]
  },
  {
   "cell_type": "code",
   "execution_count": 5,
   "metadata": {},
   "outputs": [],
   "source": [
    "def clean_sentence(sentence, title=False):\n",
    "    if title:\n",
    "        words = [word for word in sentence.split() if word.isalpha()]\n",
    "    else:\n",
    "        words = [word for word in word_tokenize(sentence) if word.isalpha()]\n",
    "    \n",
    "    words = [w.lower() for w in words]\n",
    "\n",
    "    return \" \".join(words)"
   ]
  },
  {
   "cell_type": "code",
   "execution_count": 6,
   "metadata": {},
   "outputs": [],
   "source": [
    "with open(\"data/coaches.txt\", \"r\") as fp:\n",
    "    coaches = [team.replace(\"\\n\", \"\").strip().lower() for team in fp.readlines()]\n",
    "    \n",
    "with open(\"data/teams.txt\", \"r\") as fp:\n",
    "    teams = [team.replace(\"\\n\", \"\").strip().lower() for team in fp.readlines()]\n",
    "    \n",
    "df = pd.read_csv(\"data/cities_teams.csv\", header=None)\n",
    "\n",
    "cities = [v.lower() for v in df[0].values]\n",
    "team_names = [v.lower().strip() for v in df[1].values]\n",
    "\n",
    "players_first_names, players_last_names = zip(*[p.split() for p in TOP_100_PLAYERS])\n",
    "\n",
    "name_dict = {}\n",
    "for p in TOP_100_PLAYERS:\n",
    "    name_dict[p.split()[0]] = p\n",
    "    name_dict[p.split()[1]] = p\n",
    "\n",
    "name_dict[\"james\"] = \"lebron james\""
   ]
  },
  {
   "cell_type": "code",
   "execution_count": 7,
   "metadata": {},
   "outputs": [],
   "source": [
    "def clean_doc(text, title=False):\n",
    "    text = clean_sentence(text, title)\n",
    "    \n",
    "    common = {\"bron\": \"lebron_james\", \"kd\": \"kevin_durant\", \"steph\": \"stephen_curry\", \"russ\": \"russell_westbrook\"}\n",
    "    \n",
    "    original_text = \" \".join([word.lower() for word in text.split() if word.isalpha()])\n",
    "    text = original_text # for modification\n",
    "    \n",
    "    for fn in players_first_names:\n",
    "        wholename = name_dict[fn]\n",
    "        if fn in text and wholename in original_text: # if first name and entire name is somewhere in text\n",
    "            text = text.replace(wholename, \"_\".join(wholename.split())) # join wholename with underscore\n",
    "            text = text.replace(\" \" + fn + \" \", \" \" + \"_\".join(wholename.split()) + \" \") #join the first name\n",
    "    \n",
    "    for ln in players_last_names:\n",
    "        wholename = name_dict[ln]\n",
    "        if ln in text and wholename in original_text: # if first name and entire name is somewhere in text\n",
    "            text = text.replace(wholename, \"_\".join(wholename.split())) # join wholename with underscore\n",
    "            text = text.replace(\" \" + ln + \" \", \" \" + \"_\".join(wholename.split()) + \" \") #join the first name\n",
    "\n",
    "    for team in teams:\n",
    "        if team in text:\n",
    "            text = text.replace(\" \" + team + \" \", \" \" + \"_\".join(team.split()) + \" \")\n",
    "\n",
    "    for city in cities:\n",
    "        if city in text:\n",
    "            text = text.replace(\" \" + city + \" \", \" \" + \"_\".join(city.split()) + \" \")\n",
    "\n",
    "    for name in team_names:\n",
    "        if name in text:\n",
    "            text = text.replace(\" \" + name + \" \", \" \" + \"_\".join(name.split()) + \" \")\n",
    "            \n",
    "    for coach in coaches:\n",
    "        last_name = coach.split()[1]\n",
    "        if coach in text:\n",
    "            text = text.replace(\" \" + coach + \" \", \" \" + \"_\".join(coach.split()) + \" \")\n",
    "            text = text.replace(\" \" + last_name + \" \", \" \" + \"_\".join(coach.split()) + \" \")\n",
    "\n",
    "    \n",
    "    for acr, real in common.items():\n",
    "        text = text.replace(\" \" + acr + \" \", \" \" + real + \" \")\n",
    "    \n",
    "    return text"
   ]
  },
  {
   "cell_type": "code",
   "execution_count": null,
   "metadata": {},
   "outputs": [],
   "source": []
  },
  {
   "cell_type": "code",
   "execution_count": 8,
   "metadata": {},
   "outputs": [
    {
     "name": "stdout",
     "output_type": "stream",
     "text": [
      "CPU times: user 28.1 s, sys: 180 ms, total: 28.2 s\n",
      "Wall time: 28.5 s\n"
     ]
    }
   ],
   "source": [
    "%%time\n",
    "all_sentences = []\n",
    "for doc in docs:\n",
    "    all_sentences += [clean_doc(sentence) for sentence in sent_tokenize(doc)]\n",
    "    \n",
    "all_sentences = [s.split() for s in all_sentences]\n",
    "len(all_sentences)"
   ]
  },
  {
   "cell_type": "code",
   "execution_count": 16,
   "metadata": {},
   "outputs": [
    {
     "name": "stdout",
     "output_type": "stream",
     "text": [
      "CPU times: user 2min 53s, sys: 1.28 s, total: 2min 55s\n",
      "Wall time: 1min 4s\n"
     ]
    }
   ],
   "source": [
    "%%time\n",
    "model100 = Word2Vec(size=100)\n",
    "model100.build_vocab(all_sentences)\n",
    "model100.train(all_sentences, total_examples=model.corpus_count, epochs=50)"
   ]
  },
  {
   "cell_type": "code",
   "execution_count": 17,
   "metadata": {},
   "outputs": [
    {
     "data": {
      "text/plain": [
       "'orlando_magic'"
      ]
     },
     "execution_count": 17,
     "metadata": {},
     "output_type": "execute_result"
    }
   ],
   "source": [
    "model100.wv.doesnt_match('houston_rockets utah_jazz golden_state_warriors orlando_magic'.split())"
   ]
  },
  {
   "cell_type": "code",
   "execution_count": 18,
   "metadata": {},
   "outputs": [
    {
     "data": {
      "text/plain": [
       "'stephen_curry'"
      ]
     },
     "execution_count": 18,
     "metadata": {},
     "output_type": "execute_result"
    }
   ],
   "source": [
    "model100.wv.doesnt_match('james_harden chris_paul cappella stephen_curry'.split())"
   ]
  },
  {
   "cell_type": "code",
   "execution_count": 19,
   "metadata": {},
   "outputs": [
    {
     "data": {
      "text/plain": [
       "[('james', 0.7489138245582581),\n",
       " ('lebron', 0.6486578583717346),\n",
       " ('isaiah_thomas', 0.6015753149986267),\n",
       " ('kevin_love', 0.5609138011932373),\n",
       " ('kyrie_irving', 0.5215520262718201),\n",
       " ('cavaliers', 0.5125935077667236),\n",
       " ('cleveland', 0.5111081004142761),\n",
       " ('russell_westbrook', 0.5105723142623901),\n",
       " ('kanter', 0.508220374584198),\n",
       " ('stephen_curry', 0.5009845495223999)]"
      ]
     },
     "execution_count": 19,
     "metadata": {},
     "output_type": "execute_result"
    }
   ],
   "source": [
    "model100.wv.most_similar('lebron_james')  "
   ]
  },
  {
   "cell_type": "code",
   "execution_count": 9,
   "metadata": {},
   "outputs": [
    {
     "name": "stdout",
     "output_type": "stream",
     "text": [
      "CPU times: user 2min 34s, sys: 1.02 s, total: 2min 35s\n",
      "Wall time: 56.3 s\n"
     ]
    }
   ],
   "source": [
    "%%time\n",
    "model = Word2Vec(size=30)\n",
    "model.build_vocab(all_sentences)\n",
    "model.train(all_sentences, total_examples=model.corpus_count, epochs=50)"
   ]
  },
  {
   "cell_type": "code",
   "execution_count": 13,
   "metadata": {},
   "outputs": [
    {
     "data": {
      "text/plain": [
       "'orlando_magic'"
      ]
     },
     "execution_count": 13,
     "metadata": {},
     "output_type": "execute_result"
    }
   ],
   "source": [
    "model.wv.doesnt_match('houston_rockets utah_jazz golden_state_warriors orlando_magic'.split())"
   ]
  },
  {
   "cell_type": "code",
   "execution_count": 15,
   "metadata": {},
   "outputs": [
    {
     "data": {
      "text/plain": [
       "'stephen_curry'"
      ]
     },
     "execution_count": 15,
     "metadata": {},
     "output_type": "execute_result"
    }
   ],
   "source": [
    "model.wv.doesnt_match('james_harden chris_paul cappella stephen_curry'.split())"
   ]
  },
  {
   "cell_type": "code",
   "execution_count": 10,
   "metadata": {},
   "outputs": [
    {
     "name": "stdout",
     "output_type": "stream",
     "text": [
      "kevin_love\n"
     ]
    },
    {
     "data": {
      "text/plain": [
       "[('james', 0.8426184058189392),\n",
       " ('lebron', 0.8130149245262146),\n",
       " ('kevin_love', 0.7719298601150513),\n",
       " ('kyrie_irving', 0.7388380169868469),\n",
       " ('isaiah_thomas', 0.711985170841217),\n",
       " ('cleveland', 0.7017042636871338),\n",
       " ('cleveland_cavaliers', 0.6924428939819336),\n",
       " ('nance', 0.6859879493713379),\n",
       " ('stephen_curry', 0.6836892366409302),\n",
       " ('chris_paul', 0.6620880365371704)]"
      ]
     },
     "execution_count": 10,
     "metadata": {},
     "output_type": "execute_result"
    }
   ],
   "source": [
    "s = model.wv.doesnt_match('thunder westbrook adams kevin_love'.split())\n",
    "print(s)\n",
    "model.wv.most_similar('lebron_james')  "
   ]
  },
  {
   "cell_type": "code",
   "execution_count": 72,
   "metadata": {},
   "outputs": [],
   "source": [
    "titles = [clean_doc(article['title'], title=True) for article in all_articles if article['title']]\n",
    "random_titles = np.random.choice(titles, 20)"
   ]
  },
  {
   "cell_type": "code",
   "execution_count": 83,
   "metadata": {},
   "outputs": [],
   "source": [
    "def get_average(model, title):\n",
    "    a = np.zeros(30)\n",
    "    count = 0\n",
    "    for word in title.split():\n",
    "        try:\n",
    "            a += model.wv[word]\n",
    "            count += 1\n",
    "        except:\n",
    "            continue\n",
    "    \n",
    "    return a / count\n",
    "\n",
    "vectorized_titles = [get_average(model, t) for t in titles]"
   ]
  },
  {
   "cell_type": "code",
   "execution_count": 149,
   "metadata": {},
   "outputs": [],
   "source": [
    "def get_nearest(i, all_vectors):\n",
    "    nearest = None\n",
    "    dist = float('Inf')\n",
    "    point = all_vectors[i]\n",
    "    for j, v in enumerate(all_vectors):\n",
    "        if np.linalg.norm(v - point) == 0:\n",
    "            continue\n",
    "        d = np.linalg.norm(v - point)\n",
    "        if d < dist:\n",
    "            dist = d\n",
    "            nearest_index = j\n",
    "    \n",
    "    return nearest_index\n",
    "\n",
    "def find_group_of_3_neighbors(word2vec_model, i1):\n",
    "    i2 = get_nearest(i1, vectorized_titles)\n",
    "    \n",
    "    best_dist, i3 = float(\"Inf\"), None\n",
    "    for j,v in enumerate(vectorized_titles):\n",
    "        if np.linalg.norm(vectorized_titles[j] - vectorized_titles[i1]) == 0 or np.linalg.norm(vectorized_titles[j] - vectorized_titles[i2]) == 0:\n",
    "            continue\n",
    "        d = np.linalg.norm(vectorized_titles[j] - vectorized_titles[i1])\n",
    "        d = np.linalg.norm(vectorized_titles[j] - vectorized_titles[i2])\n",
    "        if d < best_dist:\n",
    "            best_dist = d\n",
    "            i3 = j\n",
    "                \n",
    "    return [titles[i] for i in [i1, i2, i3]]"
   ]
  },
  {
   "cell_type": "code",
   "execution_count": 155,
   "metadata": {},
   "outputs": [
    {
     "name": "stdout",
     "output_type": "stream",
     "text": [
      "['nfl draft odds and predictions for top teams to watch', 'nba mock projections and predictions for top prospects', 'nba mock draft projections and stock watch for top prospects']\n",
      "\n",
      "['knicks coach jeff hornacek first shoved joakim noah during altercation', 'david david_fizdale reportedly turned down suns hc job before knicks hiring', 'david david_fizdale reportedly favorite for hornets hc job after steve clifford firing']\n",
      "\n",
      "['derrick nba future is officially in jeopardy', 'giannis brother kostas reportedly declaring for nba draft', 'mo bamba working watching film with joel_embiid before nba draft']\n",
      "\n",
      "['james_harden licked his lips after dropping wesley hitting', 'jordan poole was for ball before hitting houston', 'kyle kuzma says isaiah_thomas was at cavaliers bench after every score']\n",
      "\n",
      "['nba playoff schedule known dates for each round of bracket', 'nba playoff schedule known dates for bracket', 'nba playoff schedule updated bracket guide and postseason dates']\n",
      "\n",
      "['isaiah_thomas on scoring in lakers feel like i got my powers', 'george_hill on lebron the batman and we got to be all', 'a guide to the when nba players agree to take plays off']\n",
      "\n",
      "['kevin_durant says there is percent chance he returns to warriors next season', 'gordon_hayward says he still has hope play this season', 'season of chaos has lebron stuck doing what he want to in cavs return']\n",
      "\n",
      "['michele roberts defends lebron calls laura ingraham intolerant', 'gregg gregg_popovich defends lebron rips laura ingraham', 'dikembe mutombo supports lebron_james after laura ingraham controversy']\n",
      "\n",
      "['top sneakers worn during nba weekend', 'nfl draft final results and grades following day', 'nfl mock updated predictions for rounds and']\n",
      "\n",
      "['sweet full updated bracket and odds for ncaa tournament', 'ncaa tournament latest predictions and odds for bracket busters', 'sec tournament full schedule and complete bracket predictions']\n",
      "\n",
      "['utah jazz clinch western conference playoff berth with win la lakers', 'pacers clinch eastern conference playoff berth with win heat', 'clinch eastern conference playoff berth with win heat']\n",
      "\n",
      "['russell thunder have to after loss jazz', 'warriors dispel any notion slipping with statement win over thunder', 'brett brett_brown beat heat in game deserve to']\n",
      "\n",
      "['terry rozier on eric_bledsoe got no bad blood with', 'davis bertans jokes can take a after scuffle with draymond_green', 'kevin_durant says desire for warriors repeat causing more technicals']\n",
      "\n",
      "['jr smith coy on incident moved on from it as a', 'kim kardashian on tristan_thompson cheating on just so', 'towns to hs teammate marques townes on final it for']\n",
      "\n",
      "['unveil ben logo for nba playoffs', 'predicting the nba', 'ranking the futures of every projected nba lottery team']\n",
      "\n",
      "['ncaa stock stock down for top nba prospects', 'pro comparisons for top nba draft prospects in ncaa tournament', 'nba mock predictions for top prospects in ncaa tournament']\n",
      "\n",
      "['nba draft mock landing spots for coveted prospects', 'nfl mock draft projections and ideal scenarios for top prospects', 'nfl mock draft projections for top prospects in discussion']\n",
      "\n",
      "['bradley_beal leads wizards past giannis bucks', 'marcus leads kyrie celtics past russell thunder', 'lebron leads cavs past giannis bucks']\n",
      "\n",
      "['villanova ties final four torches kansas with', 'villanova tops kansas in final four to set up championship michigan', 'michigan beats in final four to advance to ncaa championship']\n",
      "\n",
      "['donovan mitchell outduels russell_westbrook as jazz even series with thunder', 'donovan mitchell leads jazz to with win russell thunder', 'donovan jazz beat thunder in game ricky_rubio']\n",
      "\n"
     ]
    }
   ],
   "source": [
    "for n in np.random.choice(range(len(titles)), 20):\n",
    "    print(find_group_of_3_neighbors(model, n))\n",
    "    print()"
   ]
  },
  {
   "cell_type": "code",
   "execution_count": null,
   "metadata": {},
   "outputs": [],
   "source": [
    "# # persist the model to a disk\n",
    "# model.save(fname)\n",
    "# model = Word2Vec.load(fname)"
   ]
  }
 ],
 "metadata": {
  "kernelspec": {
   "display_name": "Python 3",
   "language": "python",
   "name": "python3"
  },
  "language_info": {
   "codemirror_mode": {
    "name": "ipython",
    "version": 3
   },
   "file_extension": ".py",
   "mimetype": "text/x-python",
   "name": "python",
   "nbconvert_exporter": "python",
   "pygments_lexer": "ipython3",
   "version": "3.6.4"
  }
 },
 "nbformat": 4,
 "nbformat_minor": 2
}
