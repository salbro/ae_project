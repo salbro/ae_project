{
 "cells": [
  {
   "cell_type": "code",
   "execution_count": 22,
   "metadata": {},
   "outputs": [],
   "source": [
    "import pickle\n",
    "import numpy as np\n",
    "import re\n",
    "from utils import clean\n",
    "\n",
    "\n",
    "\n",
    "with open (\"all_nba_from_oct17\", 'rb') as fp:\n",
    "    doc_set = pickle.load(fp)\n",
    "docs = list(doc_set)\n",
    "\n",
    "from gensim.models import Word2Vec"
   ]
  },
  {
   "cell_type": "code",
   "execution_count": 58,
   "metadata": {},
   "outputs": [],
   "source": [
    "from nltk import sent_tokenize #### rememeber this\n",
    "from nltk.tokenize import word_tokenize\n",
    "from nltk.corpus import stopwords\n",
    "stop_words = stopwords.words('english')\n",
    "\n",
    "from nltk.stem.porter import PorterStemmer\n",
    "porter = PorterStemmer()"
   ]
  },
  {
   "cell_type": "code",
   "execution_count": 72,
   "metadata": {},
   "outputs": [],
   "source": [
    "def clean_sentence(sentence):\n",
    "    words = [word for word in word_tokenize(sentence) if word.isalpha()]\n",
    "    # convert everything to lower case\n",
    "    words = [w.lower() for w in words]\n",
    "\n",
    "    # split on caps\n",
    "    words = [split_on_caps(w) for w in words]\n",
    "\n",
    "    return \" \".join(words).split()"
   ]
  },
  {
   "cell_type": "code",
   "execution_count": 114,
   "metadata": {},
   "outputs": [
    {
     "data": {
      "text/plain": [
       "3272"
      ]
     },
     "execution_count": 114,
     "metadata": {},
     "output_type": "execute_result"
    }
   ],
   "source": [
    "len(docs)"
   ]
  },
  {
   "cell_type": "code",
   "execution_count": 108,
   "metadata": {},
   "outputs": [
    {
     "name": "stdout",
     "output_type": "stream",
     "text": [
      "CPU times: user 22.5 s, sys: 146 ms, total: 22.6 s\n",
      "Wall time: 22.8 s\n"
     ]
    }
   ],
   "source": [
    "%%time\n",
    "all_sentences = []\n",
    "for doc in docs:\n",
    "    all_sentences += [clean_sentence(sentence) for sentence in sent_tokenize(doc)]\n",
    "    \n",
    "len(all_sentences)"
   ]
  },
  {
   "cell_type": "code",
   "execution_count": null,
   "metadata": {},
   "outputs": [],
   "source": []
  },
  {
   "cell_type": "code",
   "execution_count": 134,
   "metadata": {},
   "outputs": [
    {
     "name": "stdout",
     "output_type": "stream",
     "text": [
      "CPU times: user 2min 30s, sys: 1.03 s, total: 2min 31s\n",
      "Wall time: 55.8 s\n"
     ]
    }
   ],
   "source": [
    "%%time\n",
    "model = Word2Vec(size=30)\n",
    "model.build_vocab(all_sentences)\n",
    "model.train(all_sentences, total_examples=model.corpus_count, epochs=50)"
   ]
  },
  {
   "cell_type": "code",
   "execution_count": 144,
   "metadata": {},
   "outputs": [
    {
     "name": "stdout",
     "output_type": "stream",
     "text": [
      "love\n"
     ]
    },
    {
     "data": {
      "text/plain": [
       "[('james', 0.8014628887176514),\n",
       " ('harden', 0.7845656871795654),\n",
       " ('steph', 0.660460352897644),\n",
       " ('curry', 0.6287393569946289),\n",
       " ('captains', 0.6204112768173218),\n",
       " ('cleveland', 0.6165857315063477),\n",
       " ('pierce', 0.611995279788971),\n",
       " ('stephen', 0.6034107804298401),\n",
       " ('george', 0.5979452133178711),\n",
       " ('love', 0.596632182598114)]"
      ]
     },
     "execution_count": 144,
     "metadata": {},
     "output_type": "execute_result"
    }
   ],
   "source": [
    "s = model.wv.doesnt_match('okc thunder westbrook adams love'.split())\n",
    "print(s)\n",
    "model.wv.most_similar('lebron')"
   ]
  },
  {
   "cell_type": "code",
   "execution_count": 93,
   "metadata": {},
   "outputs": [],
   "source": [
    "# # persist the model to a disk\n",
    "# model.save(fname)\n",
    "# model = Word2Vec.load(fname)  "
   ]
  }
 ],
 "metadata": {
  "kernelspec": {
   "display_name": "Python 3",
   "language": "python",
   "name": "python3"
  },
  "language_info": {
   "codemirror_mode": {
    "name": "ipython",
    "version": 3
   },
   "file_extension": ".py",
   "mimetype": "text/x-python",
   "name": "python",
   "nbconvert_exporter": "python",
   "pygments_lexer": "ipython3",
   "version": "3.6.4"
  }
 },
 "nbformat": 4,
 "nbformat_minor": 2
}
