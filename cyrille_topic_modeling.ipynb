{
 "cells": [
  {
   "cell_type": "code",
   "execution_count": 109,
   "metadata": {},
   "outputs": [],
   "source": [
    "import pickle\n",
    "import numpy as np\n",
    "import re\n",
    "from utils import clean, split_on_caps, TOP_100_PLAYERS\n",
    "import pandas as pd\n",
    "from nltk import sent_tokenize #### rememeber this\n",
    "from nltk.tokenize import word_tokenize\n",
    "from nltk.stem.porter import PorterStemmer\n",
    "\n",
    "import nltk\n",
    "from nltk.corpus import stopwords\n",
    "from gensim.models.ldamodel import LdaModel\n",
    "from gensim import corpora\n",
    "\n",
    "STOPLIST = stopwords.words('english')\n",
    "\n",
    "import codecs\n",
    "import json"
   ]
  },
  {
   "cell_type": "markdown",
   "metadata": {},
   "source": [
    "## Load Data"
   ]
  },
  {
   "cell_type": "code",
   "execution_count": 113,
   "metadata": {},
   "outputs": [],
   "source": [
    "docs_cleaned_filename = \"docs_cleaned_saturday\"\n",
    "with open (docs_cleaned_filename, 'rb') as fp:\n",
    "    docs = pickle.load(fp)\n",
    "    \n",
    "article_dicts_filename = \"article_dicts_saturday\"\n",
    "all_articles = []\n",
    "with codecs.open(article_dicts_filename,'rU','utf-8') as f:\n",
    "    for line in f:\n",
    "        all_articles.append(json.loads(line))"
   ]
  },
  {
   "cell_type": "code",
   "execution_count": 114,
   "metadata": {},
   "outputs": [],
   "source": [
    "article_dicts_filename = \"article_dicts_saturday\"\n",
    "all_articles = []\n",
    "with codecs.open(article_dicts_filename,'rU','utf-8') as f:\n",
    "    for line in f:\n",
    "        all_articles.append(json.loads(line))"
   ]
  },
  {
   "cell_type": "code",
   "execution_count": 116,
   "metadata": {},
   "outputs": [
    {
     "data": {
      "text/plain": [
       "(3314, 3314)"
      ]
     },
     "execution_count": 116,
     "metadata": {},
     "output_type": "execute_result"
    }
   ],
   "source": [
    "len(docs), len(all_articles)"
   ]
  },
  {
   "cell_type": "markdown",
   "metadata": {},
   "source": [
    "### LDA on all the documents"
   ]
  },
  {
   "cell_type": "code",
   "execution_count": 115,
   "metadata": {},
   "outputs": [],
   "source": [
    "def tokenize(text):\n",
    "    tokens = nltk.word_tokenize(text)\n",
    "    ps = PosterStemmer()\n",
    "    return [ps.stem(item) for item in tokens]"
   ]
  },
  {
   "cell_type": "markdown",
   "metadata": {},
   "source": [
    "#### Use TF-IDF to identify screen most important words"
   ]
  },
  {
   "cell_type": "code",
   "execution_count": 41,
   "metadata": {},
   "outputs": [],
   "source": [
    "from sklearn.feature_extraction.text import TfidfVectorizer\n",
    "tfidf = TfidfVectorizer(stop_words = 'english', min_df = 0.01, max_df = 0.35)\n",
    "\n",
    "trans = tfidf.fit_transform(docs)\n",
    "feats = tfidf.get_feature_names()\n",
    "vocab = set(tfidf.vocabulary_.keys())"
   ]
  },
  {
   "cell_type": "code",
   "execution_count": 23,
   "metadata": {},
   "outputs": [],
   "source": [
    "texts = [[word for word in tokenize(text) if word in vocab and word.isalpha()] for text in docs]\n",
    "dictionary = corpora.Dictionary(texts)\n",
    "corpus = [dictionary.doc2bow(text) for text in texts]"
   ]
  },
  {
   "cell_type": "code",
   "execution_count": 84,
   "metadata": {},
   "outputs": [
    {
     "name": "stdout",
     "output_type": "stream",
     "text": [
      "CPU times: user 25.5 s, sys: 446 ms, total: 26 s\n",
      "Wall time: 26.3 s\n"
     ]
    }
   ],
   "source": [
    "%%time\n",
    "NUM_TOPICS = 30\n",
    "lda = LdaModel(corpus=corpus, id2word=dictionary, num_topics=NUM_TOPICS, update_every=1, chunksize=5000, passes=4)"
   ]
  },
  {
   "cell_type": "code",
   "execution_count": 117,
   "metadata": {},
   "outputs": [],
   "source": [
    "# for i in range(NUM_TOPICS):\n",
    "#     for word_id, p in lda.get_topic_terms(i):\n",
    "#         print(dictionary[word_id],p, end=\" \")\n",
    "#     print(\"\\n\")"
   ]
  },
  {
   "cell_type": "code",
   "execution_count": 81,
   "metadata": {},
   "outputs": [
    {
     "name": "stdout",
     "output_type": "stream",
     "text": [
      "million 0.024970928 trade 0.02018343 pick 0.016988372 free 0.014145047 deal 0.011659104 \n",
      "\n"
     ]
    }
   ],
   "source": [
    "# for word_id, prob in lda.get_topic_terms(3)[:5]:\n",
    "#     print(dictionary[word_id], prob, end=\" \")\n",
    "# print(\"\\n\")"
   ]
  },
  {
   "cell_type": "code",
   "execution_count": 94,
   "metadata": {},
   "outputs": [],
   "source": [
    "# from collections import defaultdict\n",
    "# topic2docs = defaultdict(list)\n",
    "# for i,corpus_doc in enumerate(corpus):\n",
    "#     topic_id = max(lda[corpus_doc], key=lambda x:x[1])[0]\n",
    "#     topic2docs[topic_id].append(i)"
   ]
  },
  {
   "cell_type": "code",
   "execution_count": null,
   "metadata": {},
   "outputs": [],
   "source": []
  },
  {
   "cell_type": "code",
   "execution_count": null,
   "metadata": {},
   "outputs": [],
   "source": []
  },
  {
   "cell_type": "code",
   "execution_count": null,
   "metadata": {},
   "outputs": [],
   "source": []
  }
 ],
 "metadata": {
  "kernelspec": {
   "display_name": "Python 3",
   "language": "python",
   "name": "python3"
  },
  "language_info": {
   "codemirror_mode": {
    "name": "ipython",
    "version": 3
   },
   "file_extension": ".py",
   "mimetype": "text/x-python",
   "name": "python",
   "nbconvert_exporter": "python",
   "pygments_lexer": "ipython3",
   "version": "3.6.4"
  }
 },
 "nbformat": 4,
 "nbformat_minor": 2
}
