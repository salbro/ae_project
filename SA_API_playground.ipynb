{
 "cells": [
  {
   "cell_type": "code",
   "execution_count": 2,
   "metadata": {},
   "outputs": [],
   "source": [
    "import json\n",
    "import requests\n",
    "from bs4 import BeautifulSoup\n",
    "import time\n",
    "import pickle\n",
    "from utils import *\n",
    "# from newsapi import NewsApiClient # !pip install newsapi-python"
   ]
  },
  {
   "cell_type": "code",
   "execution_count": 3,
   "metadata": {},
   "outputs": [],
   "source": [
    "API_KEY = \"b942a2d2391e4ad8ae01c9168a5cdcc1\" # salbro@mit.edu\n",
    "API_KEY = \"90493a497ace4b8ebe8ef5e82bfadce6\" # cyrille's API key\n",
    "# API_KEY = \"f604134c17ae431591a2976d7c3bae55\" # stephenpalbro@gmail.com api key"
   ]
  },
  {
   "cell_type": "markdown",
   "metadata": {},
   "source": [
    "Let's create a massive NBA query consisting of \"NBA\" + all teams + top 25 players."
   ]
  },
  {
   "cell_type": "code",
   "execution_count": 4,
   "metadata": {},
   "outputs": [],
   "source": [
    "## get all NBA teams, add them to the query\n",
    "with open(\"teams.txt\", \"r\") as fp:\n",
    "    teams = [\"(\" + team.replace(\"\\n\", \"\").strip().lower() + \")\" for team in fp.readlines()]\n",
    "\n",
    "query = \"NBA OR \" + \" OR \".join(teams)\n",
    "query += \" OR \"\n",
    "\n",
    "# add all players to the query\n",
    "query += \" OR \".join([\"(\"+name+\")\" for name in TOP_100_PLAYERS[:25]]) # top 25 players\n",
    "\n",
    "# URL-ify the query\n",
    "query = urlify(query)"
   ]
  },
  {
   "cell_type": "markdown",
   "metadata": {},
   "source": [
    "#### Let's get the articles now."
   ]
  },
  {
   "cell_type": "code",
   "execution_count": 7,
   "metadata": {},
   "outputs": [],
   "source": [
    "# %%time\n",
    "# param_dict = {\"from\": \"2017-10-17\", \"sources\":\"bleacher-report\",\n",
    "#               \"pageSize\":\"100\", \"apiKey\":API_KEY, \"q\":query} # you can also do \"sortBy=popularity\"\n",
    "# set_of_docs = get_docs_from_params(param_dict)"
   ]
  },
  {
   "cell_type": "code",
   "execution_count": 6,
   "metadata": {},
   "outputs": [],
   "source": [
    "big_filename = \"all_nba_from_oct17\"\n",
    "with open(big_filename, 'wb') as fp:\n",
    "    pickle.dump(set_of_docs, fp)"
   ]
  },
  {
   "cell_type": "code",
   "execution_count": 24,
   "metadata": {},
   "outputs": [],
   "source": [
    "# with open (big_filename, 'rb') as fp:\n",
    "#     docs = pickle.load(fp)"
   ]
  },
  {
   "cell_type": "markdown",
   "metadata": {},
   "source": [
    "# players only"
   ]
  },
  {
   "cell_type": "code",
   "execution_count": 8,
   "metadata": {},
   "outputs": [
    {
     "name": "stdout",
     "output_type": "stream",
     "text": [
      "bron\n",
      "0/809...50/809...100/809...150/809...200/809...250/809...300/809...350/809...400/809...450/809...500/809...550/809...600/809...650/809...700/809...750/809...800/809...kd\n",
      "0/294...50/294...100/294...150/294...200/294...250/294...steph\n",
      "0/331...50/331...100/331...150/331...200/331...250/331...300/331...harden\n",
      "0/195...50/195...100/195...150/195...russel\n",
      "0/226...50/226...100/226...150/226...200/226...davis\n",
      "0/178...50/178...100/178...150/178..."
     ]
    }
   ],
   "source": [
    "player_queries = [\"(lebron james) OR lebron\", \"(kevin durant) OR KD\", \"(steph curry) OR (stephen curry)\", \n",
    "                 \"(james harden) OR (harden)\", \"(russell westbrook) OR (westbrook)\", \"(anthony davis)\"]\n",
    "player_docs_list = {}\n",
    "player_names = [\"bron\", \"kd\", \"steph\", \"harden\", \"russel\", \"davis\"]\n",
    "\n",
    "\n",
    "start_date = \"2017-10-17\" # start of 2017-2018 NBA season\n",
    "for player, name in zip(player_queries, player_names):\n",
    "    print(name)\n",
    "    param_dict = {\"from\": start_date, \"sources\":\"bleacher-report\",\n",
    "              \"pageSize\":\"100\", \"apiKey\":API_KEY, \"q\":player} # you can also do \"sortBy=popularity\"\n",
    "\n",
    "    player_docs = get_docs_from_params(param_dict)\n",
    "    player_docs_list[player] = player_docs\n",
    "\n",
    "# save to a file\n",
    "for player, name in zip(player_queries, player_names):\n",
    "    filename = name + \"_from_oct17_take2\"\n",
    "    with open(filename, 'wb') as fp:\n",
    "        pickle.dump(player_docs_list[player], fp)"
   ]
  },
  {
   "cell_type": "code",
   "execution_count": null,
   "metadata": {},
   "outputs": [],
   "source": []
  },
  {
   "cell_type": "code",
   "execution_count": null,
   "metadata": {},
   "outputs": [],
   "source": []
  },
  {
   "cell_type": "code",
   "execution_count": null,
   "metadata": {},
   "outputs": [],
   "source": []
  },
  {
   "cell_type": "code",
   "execution_count": null,
   "metadata": {},
   "outputs": [],
   "source": []
  },
  {
   "cell_type": "markdown",
   "metadata": {},
   "source": [
    "#### old stuff"
   ]
  },
  {
   "cell_type": "markdown",
   "metadata": {},
   "source": [
    "Now let's scrape the comments ... having trouble with this because of the iframe. forget about it for the time being."
   ]
  },
  {
   "cell_type": "code",
   "execution_count": 185,
   "metadata": {},
   "outputs": [
    {
     "name": "stdout",
     "output_type": "stream",
     "text": [
      "CPU times: user 394 ms, sys: 36.2 ms, total: 430 ms\n",
      "Wall time: 848 ms\n"
     ]
    }
   ],
   "source": [
    "# %%time\n",
    "# comments_by_doc = []\n",
    "# for article in all_articles[:10]:\n",
    "#     comments = []\n",
    "#     url = article['url']\n",
    "#     soup = BeautifulSoup(requests.get(url).text, \"lxml\")\n",
    "#     content = soup.find_all(\"span\", {\"class\":\"_5mdd\"})\n",
    "#     if content is None:\n",
    "#         print(\"no comment with class _5mdd\")\n",
    "#     for comment_span in content:\n",
    "#         comments.append(comment_span.get_text())\n",
    "#     comments_by_doc.append(comments)"
   ]
  },
  {
   "cell_type": "code",
   "execution_count": null,
   "metadata": {},
   "outputs": [],
   "source": []
  }
 ],
 "metadata": {
  "kernelspec": {
   "display_name": "Python 3",
   "language": "python",
   "name": "python3"
  },
  "language_info": {
   "codemirror_mode": {
    "name": "ipython",
    "version": 3
   },
   "file_extension": ".py",
   "mimetype": "text/x-python",
   "name": "python",
   "nbconvert_exporter": "python",
   "pygments_lexer": "ipython3",
   "version": "3.6.4"
  }
 },
 "nbformat": 4,
 "nbformat_minor": 2
}
