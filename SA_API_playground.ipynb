{
 "cells": [
  {
   "cell_type": "markdown",
   "metadata": {},
   "source": [
    "# bleacher report API key"
   ]
  },
  {
   "cell_type": "code",
   "execution_count": 159,
   "metadata": {},
   "outputs": [],
   "source": [
    "import json\n",
    "import requests\n",
    "from bs4 import BeautifulSoup\n",
    "import time\n",
    "# from newsapi import NewsApiClient # !pip install newsapi-python"
   ]
  },
  {
   "cell_type": "code",
   "execution_count": 26,
   "metadata": {},
   "outputs": [],
   "source": [
    "API_KEY = \"b942a2d2391e4ad8ae01c9168a5cdcc1\" # salbro@mit.edu\n",
    "API_KEY = \"90493a497ace4b8ebe8ef5e82bfadce6\" # cyrille's API key\n",
    "API_KEY = \"f604134c17ae431591a2976d7c3bae55\" # stephenpalbro@gmail.com api key"
   ]
  },
  {
   "cell_type": "code",
   "execution_count": 90,
   "metadata": {},
   "outputs": [],
   "source": [
    "param_dict = {\"from\": \"2018-03-20\", \"sources\":\"bleacher-report\",\n",
    "              \"pageSize\":\"100\", \"apiKey\":API_KEY, \"q\":\"lebron\"} # you can also do \"sortBy=popularity\"\n",
    "\n",
    "def get_url(param_dict):\n",
    "    url = \"https://newsapi.org/v2/everything?\"\n",
    "    for k, v in param_dict.items():\n",
    "        url += (k + \"=\" + v + \"&\")\n",
    "    return url"
   ]
  },
  {
   "cell_type": "code",
   "execution_count": 86,
   "metadata": {},
   "outputs": [],
   "source": [
    "def get_articles(param_dict, page_end = 100, page_start=1):\n",
    "    url_root = get_url(param_dict)\n",
    "    responses = [requests.get(url_root + \"page=\"+str(page)).json() for page in range(page_start, page_end + 1)]\n",
    "    return responses"
   ]
  },
  {
   "cell_type": "code",
   "execution_count": 87,
   "metadata": {},
   "outputs": [],
   "source": [
    "responses = get_articles(param_dict, page_end = 50)"
   ]
  },
  {
   "cell_type": "code",
   "execution_count": 91,
   "metadata": {},
   "outputs": [],
   "source": [
    "all_articles = []\n",
    "for response in responses:\n",
    "    all_articles += response['articles']"
   ]
  },
  {
   "cell_type": "code",
   "execution_count": 160,
   "metadata": {},
   "outputs": [
    {
     "data": {
      "text/plain": [
       "265"
      ]
     },
     "execution_count": 160,
     "metadata": {},
     "output_type": "execute_result"
    }
   ],
   "source": [
    "len(all_articles)"
   ]
  },
  {
   "cell_type": "markdown",
   "metadata": {},
   "source": [
    "## Now let's scrape article text"
   ]
  },
  {
   "cell_type": "code",
   "execution_count": 181,
   "metadata": {},
   "outputs": [],
   "source": [
    "%%time\n",
    "docs = []\n",
    "for article in all_articles:\n",
    "    url = article['url']\n",
    "    soup = BeautifulSoup(requests.get(url).text, \"lxml\")\n",
    "    content = soup.find(\"div\", {\"class\":\"organism contentStream\"})\n",
    "    if content is None:\n",
    "        content_slides = soup.find_all(\"div\", {\"class\":\"organism contentStream slide\"})\n",
    "        paragraphs = []\n",
    "        for content_slide in content_slides:\n",
    "            paragraphs += content_slide.find_all(\"p\")\n",
    "    else:\n",
    "        paragraphs = content.find_all(\"p\")\n",
    "    \n",
    "    entire_text = \"\".join([p.get_text() for p in paragraphs])\n",
    "    docs.append(entire_text)\n",
    "    time.sleep(.300)"
   ]
  },
  {
   "cell_type": "markdown",
   "metadata": {},
   "source": [
    "### Now let's scrape the comments"
   ]
  },
  {
   "cell_type": "code",
   "execution_count": 185,
   "metadata": {},
   "outputs": [
    {
     "name": "stdout",
     "output_type": "stream",
     "text": [
      "CPU times: user 394 ms, sys: 36.2 ms, total: 430 ms\n",
      "Wall time: 848 ms\n"
     ]
    }
   ],
   "source": [
    "%%time\n",
    "comments_by_doc = []\n",
    "for article in all_articles[:10]:\n",
    "    comments = []\n",
    "    url = article['url']\n",
    "    soup = BeautifulSoup(requests.get(url).text, \"lxml\")\n",
    "    content = soup.find_all(\"span\", {\"class\":\"_5mdd\"})\n",
    "    if content is None:\n",
    "        print(\"no comment with class _5mdd\")\n",
    "    for comment_span in content:\n",
    "        comments.append(comment_span.get_text())\n",
    "    comments_by_doc.append(comments)\n",
    "        \n"
   ]
  },
  {
   "cell_type": "code",
   "execution_count": 209,
   "metadata": {},
   "outputs": [],
   "source": [
    "url = all_articles[0]['url']"
   ]
  },
  {
   "cell_type": "code",
   "execution_count": 210,
   "metadata": {},
   "outputs": [],
   "source": [
    "soup = BeautifulSoup(requests.get(url).text, \"lxml\")\n",
    "# content = soup.find_all(\"iframe\", {\"title\":\"Facebook Social Plugin\"})\n",
    "# # content\n",
    "# content"
   ]
  },
  {
   "cell_type": "code",
   "execution_count": 198,
   "metadata": {},
   "outputs": [],
   "source": [
    "url = \"https://www.facebook.com/plugins/feedback.php?api_key=135174055162&channel_url=https%3A%2F%2Fstaticxx.facebook.com%2Fconnect%2Fxd_arbiter%2Fr%2FFdM1l_dpErI.js%3Fversion%3D42%23cb%3Df2a4b22fc286bc%26domain%3Dbleacherreport.com%26origin%3Dhttps%253A%252F%252Fbleacherreport.com%252Ff2d8cf4393b3b8c%26relation%3Dparent.parent&href=http%3A%2F%2Fbleacherreport.com%2Farticles%2F2768785&locale=en_US&numposts=10&sdk=joey&version=v2.8&width=100%25\""
   ]
  },
  {
   "cell_type": "code",
   "execution_count": 219,
   "metadata": {},
   "outputs": [],
   "source": [
    "soup.find(\"footer\").find(\"div\", {\"class\":\"fb-comments\"}).find(\"span\")\n"
   ]
  },
  {
   "cell_type": "code",
   "execution_count": 220,
   "metadata": {},
   "outputs": [],
   "source": [
    "soup.find(\"div\", {\"id\": \"facebook\"})"
   ]
  },
  {
   "cell_type": "code",
   "execution_count": 221,
   "metadata": {},
   "outputs": [
    {
     "data": {
      "text/plain": [
       "[]"
      ]
     },
     "execution_count": 221,
     "metadata": {},
     "output_type": "execute_result"
    }
   ],
   "source": [
    "soup(\"iframe\")"
   ]
  },
  {
   "cell_type": "code",
   "execution_count": null,
   "metadata": {},
   "outputs": [],
   "source": []
  }
 ],
 "metadata": {
  "kernelspec": {
   "display_name": "Python 3",
   "language": "python",
   "name": "python3"
  },
  "language_info": {
   "codemirror_mode": {
    "name": "ipython",
    "version": 3
   },
   "file_extension": ".py",
   "mimetype": "text/x-python",
   "name": "python",
   "nbconvert_exporter": "python",
   "pygments_lexer": "ipython3",
   "version": "3.6.4"
  }
 },
 "nbformat": 4,
 "nbformat_minor": 2
}
